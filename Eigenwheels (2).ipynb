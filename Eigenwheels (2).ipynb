{
  "cells": [
    {
      "cell_type": "markdown",
      "metadata": {
        "id": "qttpyXDnb_w2"
      },
      "source": [
        "# The $\\Phi$  discs dummy version"
      ]
    },
    {
      "cell_type": "code",
      "source": [
        ""
      ],
      "metadata": {
        "id": "JcEERS4LoZvL"
      },
      "execution_count": 47,
      "outputs": []
    },
    {
      "cell_type": "markdown",
      "metadata": {
        "id": "HL1HI1Nwb_w7"
      },
      "source": [
        "The Power of eigenfunctions\n"
      ]
    },
    {
      "cell_type": "markdown",
      "metadata": {
        "id": "Ps6rNpj2b_w9"
      },
      "source": [
        "## Golden_Ratio_and_mod_13_structure\n",
        "\n",
        "https://www.youtube.com/watch?v=NY5tgKBtLQ0\n",
        "\n",
        "$$ T_o  = \\frac{1}{2}(1+\\sqrt{5})$$\n",
        "\n",
        "And we have as eigenfunction for the discrete time index for the selected $T_o$:\n",
        "\n",
        "$$ \\tau = e^{\\frac{2\\pi i}{T_o}}$$\n",
        "\n",
        "\n",
        "\n",
        "$$\\delta[0]=\\delta_0 =\\frac{1}{T_o}$$\n",
        "\n",
        "$$\\delta[n] =\\begin{cases} \\delta_0\\space for \\space n=0\\space mod\\space T_{mod} \\\\\n",
        "                     0\\space for \\space n > 0 \\space mod\\space T_{mod} \\\\\n",
        "       \\end{cases}$$\n",
        "\n",
        "$$r[-1]=0$$\n",
        "\n",
        "\n",
        "$$r[n] = r[n-1] + \\delta[n] $$\n",
        "\n",
        "\n",
        "Time evolves, and becomes interested in modular shapes and in closed loops:\n",
        "\n",
        "$$\\hat n[n] =r[n]·\\tau^{n}$$\n",
        "\n",
        "\n",
        "\n",
        "\n",
        "\n"
      ]
    },
    {
      "cell_type": "code",
      "execution_count": 48,
      "metadata": {
        "id": "HGJPJTVtb_w-"
      },
      "outputs": [],
      "source": [
        "#"
      ]
    },
    {
      "cell_type": "code",
      "execution_count": 49,
      "metadata": {
        "id": "_G4507iUb_xA"
      },
      "outputs": [],
      "source": [
        "import matplotlib.pyplot as plt\n",
        "from matplotlib import cm\n",
        "import warnings\n",
        "warnings.filterwarnings(\"ignore\")\n",
        "import pandas as pd\n",
        "import numpy as np\n"
      ]
    },
    {
      "cell_type": "code",
      "execution_count": 50,
      "metadata": {
        "id": "8UnUirnMb_xB"
      },
      "outputs": [],
      "source": [
        "# \n",
        "#This one is still dummy but wont crash the pc.\n",
        "#https://stackoverflow.com/questions/46460127/efficiently-finding-prime-numbers-in-python\n",
        "primes_list_path='primes.csv'\n",
        "# import primes list as a numpy array\n",
        "primes_list=pd.read_csv(primes_list_path)\n",
        "#primes_list=np.array(primes_list.values,dtype=int)\n",
        "batch_size =13*2\n",
        "start_index=0\n",
        "#data = pd.read_csv('mod_37_cycle_data.csv')\n",
        "basic_map = pd.read_csv('basic_map2.csv')\n",
        "#data.set_index('n', inplace=True)\n",
        "basic_map.set_index('X', inplace=True)\n",
        "#S = np.array(data.S[start_index:batch_size].values)\n",
        "S = np.arange(0,batch_size)\n",
        "\n"
      ]
    },
    {
      "cell_type": "code",
      "execution_count": 51,
      "metadata": {
        "id": "P75KQL45b_xB"
      },
      "outputs": [],
      "source": [
        "df=primes_list\n",
        "\n",
        "def isPrime(N):\n",
        "    if df[df.eq(N).all(1)].values !=0:\n",
        "        answer =   True \n",
        "    else:\n",
        "        answer =   False\n",
        "            \n",
        "    return answer\n"
      ]
    },
    {
      "cell_type": "code",
      "execution_count": 52,
      "metadata": {
        "id": "59ipiFOVb_xC",
        "outputId": "4faf8de0-21d9-4ea0-c54e-a9126223df99",
        "colab": {
          "base_uri": "https://localhost:8080/"
        }
      },
      "outputs": [
        {
          "output_type": "execute_result",
          "data": {
            "text/plain": [
              "True"
            ]
          },
          "metadata": {},
          "execution_count": 52
        }
      ],
      "source": [
        "isPrime(13)"
      ]
    },
    {
      "cell_type": "code",
      "execution_count": 52,
      "metadata": {
        "id": "SlSuvzz1i2IV"
      },
      "outputs": [],
      "source": [
        ""
      ]
    },
    {
      "cell_type": "code",
      "execution_count": 53,
      "metadata": {
        "colab": {
          "base_uri": "https://localhost:8080/",
          "height": 34
        },
        "id": "3aaR2nSicTbm",
        "outputId": "d31ae5e2-9d88-4257-f92c-595cdfc8070e"
      },
      "outputs": [
        {
          "output_type": "display_data",
          "data": {
            "text/plain": [
              "<Figure size 432x288 with 0 Axes>"
            ]
          },
          "metadata": {}
        }
      ],
      "source": [
        "# basic animated mod 39 wheel in python\n",
        "from __future__ import division \n",
        "#import glob\n",
        "from PIL import Image\n",
        "import re\n",
        "import matplotlib.pyplot as plt\n",
        "from matplotlib import cm\n",
        "import numpy as np \n",
        "import random\n",
        "import pandas as pd\n",
        "primes_list_path='primes.csv'\n",
        "primes_list=pd.read_csv(primes_list_path)\n",
        "df=primes_list\n",
        "\n",
        "def isPrime(N):\n",
        "    if df[df.eq(N).all(1)].values !=0:\n",
        "        answer =   True \n",
        "    else:\n",
        "        answer =   False\n",
        "            \n",
        "    return answer\n",
        "\n",
        "allow_plot = 0\n",
        "allow_scatter = 1\n",
        "allow_text = 1\n",
        "allow_gif = 0\n",
        "\n",
        "To          = 39 \n",
        "k_o         = 1/3\n",
        "sessions    = 10\n",
        "\n",
        "r_o=(1/4)\n",
        "t_o=To*k_o\n",
        "                              \n",
        "batch_size  = sessions*To\n",
        "\n",
        "#change this to the int vector representing input signal\n",
        "#symbol = some_stochastic_vector\n",
        "symbol      = np.zeros(batch_size,dtype=int) \n",
        "\n",
        "if allow_plot == 1 :\n",
        "    #Init plot settings\n",
        "    plt.close()\n",
        "    plt.figure(figsize=(16,16))\n",
        "    plt.rcParams.update({\n",
        "        \"lines.color\": \"black\",\n",
        "        \"patch.edgecolor\": \"black\",\n",
        "        \"text.color\": \"black\",\n",
        "        \"axes.facecolor\": \"black\",\n",
        "        \"axes.edgecolor\": \"black\",\n",
        "        \"axes.labelcolor\": \"black\",\n",
        "        \"xtick.color\": \"black\",\n",
        "        \"ytick.color\": \"black\",\n",
        "        \"grid.color\": \"black\",\n",
        "        \"figure.facecolor\": \"black\",\n",
        "        \"figure.edgecolor\": \"black\",\n",
        "        \"savefig.facecolor\": \"black\",\n",
        "        \"savefig.edgecolor\": \"black\"})\n",
        "    #plt.xlabel('real alpha')\n",
        "    #plt.ylabel('imaginary beta')\n",
        "    #plt.title('events constellation')\n",
        "    #plt.xlim(-2, 2)\n",
        "    #plt.ylim(-2, 2)\n",
        "    plt.gca().set_aspect('equal', adjustable='box')\n",
        "    \n",
        "    #Create base colormapplt.close() wheel\n",
        "    hsvwheel = cm.get_cmap('hsv', To)\n",
        "\n",
        "#Main constants\n",
        "wzero = 2 * np.pi * (1/To) #Base\n",
        "\n",
        "\n",
        "#Initial conditions natural information field carrier\n",
        "half=1/2\n",
        "root_phase=np.sqrt(5)\n",
        "root_norm=np.sqrt(3)\n",
        "\n",
        "r_phase=half*(1+root_phase)\n",
        "r_norm=half*(1+1j*root_norm)\n",
        "\n",
        "\n",
        "\n",
        "#Plot constants\n",
        "base_symbol_size=13\n",
        "base_text_size=13\n",
        "symbol_size =base_symbol_size*np.ones(batch_size,dtype=int)\n",
        "text_size =base_text_size*np.ones(batch_size,dtype=int)\n",
        "dots_per_inch=300\n",
        "event_marker=\"o\"\n",
        "\n",
        "#Variables preallocation\n",
        "xphitime    = np.zeros(batch_size,dtype=float)\n",
        "yphitime    = np.zeros(batch_size,dtype=float)\n",
        "phitime     = np.zeros(batch_size,dtype=complex)\n",
        "phisymbol   = np.zeros(batch_size,dtype=complex)\n",
        "xphisymbol  = np.zeros(batch_size,dtype=float)\n",
        "yphisymbol  = np.zeros(batch_size,dtype=float)\n",
        "z_time_phase = np.zeros(batch_size,dtype=complex)\n",
        "z_time_norm  = np.zeros(batch_size,dtype=complex)\n",
        "z_time=np.zeros(batch_size,dtype=complex)\n",
        "z_carrier_alpha=np.zeros(batch_size,dtype=float)\n",
        "z_carrier_beta=np.zeros(batch_size,dtype=float)\n",
        "z_carrier=np.zeros(batch_size,dtype=complex)\n",
        "\n",
        "events_index   = np.arange(batch_size,dtype=int)\n",
        "nmod = events_index%To\n",
        "\n",
        "\n",
        "for n in events_index:\n",
        "    \n",
        "    # Index parametrization\n",
        "    \n",
        "    phitime[n]      = np.exp(1j * wzero * nmod[n] )\n",
        "    xphitime[n]     = phitime[n].real \n",
        "    yphitime[n]     = phitime[n].imag \n",
        "    z_time_phase[n] = ((n+1)/r_o) * np.exp(1j * ((r_o)/r_phase) * (n+1) )\n",
        "    z_time_norm[n]  = (n+1) * r_norm\n",
        "    z_time[n]=z_time_norm[n]/z_time_phase[n]\n",
        "    z_carrier_alpha[n]=(r_o+t_o-(half/r_o)*n)*z_time[n].real\n",
        "    z_carrier_beta[n]=(r_o+t_o-(half*root_norm)*n)*z_time[n].imag\n",
        "    z_carrier[n]=z_carrier_alpha[n]+1j*z_carrier_beta[n]\n",
        "    \n",
        "    # Symbol parametrization\n",
        "    \n",
        "    symbol[n]      = nmod[n] # symbols follow events index\n",
        "    #symbol[n]     = input_symbols[n]    \n",
        "    #symbol[n]     = random.randint(1, To) # symbols from RNG\n",
        "    phisymbol[n]   = np.exp(1j * wzero * symbol[n])\n",
        "    xphisymbol[n]  = phisymbol[n].real\n",
        "    yphisymbol[n]  = phisymbol[n].imag\n",
        "\n",
        " \n",
        "    if allow_plot == 1 :\n",
        "        #plot current event hsvwheel phase color in index space\n",
        "    \n",
        "         \n",
        "\n",
        "\n",
        "         \n",
        "         \n",
        "\n",
        "         if allow_scatter==1:\n",
        "          if ~isPrime(n):\n",
        "              plt.scatter(z_carrier_alpha[n], z_carrier_beta[n] , marker=event_marker, color=hsvwheel(symbol[n-7]), s=symbol_size[n])\n",
        "              plt.scatter(z_carrier_alpha[n], (-1)*z_carrier_beta[n] , marker=event_marker, color=hsvwheel(symbol[n-6]), s=symbol_size[n])\n",
        "              plt.scatter((-1)*z_carrier_alpha[n], z_carrier_beta[n] , marker=event_marker, color=hsvwheel(symbol[n-5]), s=symbol_size[n])\n",
        "              plt.scatter((-1)*z_carrier_alpha[n], (-1)*z_carrier_beta[n] , marker=event_marker, color=hsvwheel(symbol[n-4]), s=symbol_size[n])\n",
        "              plt.scatter(z_carrier_beta[n], z_carrier_alpha[n] , marker=event_marker, color=hsvwheel(symbol[n-3]), s=symbol_size[n])\n",
        "              plt.scatter(z_carrier_beta[n], (-1)*z_carrier_alpha[n] , marker=event_marker, color=hsvwheel(symbol[n-2]), s=symbol_size[n])\n",
        "              plt.scatter((-1)*z_carrier_beta[n], z_carrier_alpha[n] , marker=event_marker, color=hsvwheel(symbol[n-1]), s=symbol_size[n])\n",
        "              plt.scatter((-1)*z_carrier_beta[n], (-1)*z_carrier_alpha[n] , marker=event_marker, color=hsvwheel(symbol[n]), s=symbol_size[n])\n",
        "          \n",
        "        \n",
        "         if allow_text==1:\n",
        "          if isPrime(n):\n",
        "              plt.text(z_carrier_alpha[n], z_carrier_beta[n],str(n), color=hsvwheel(symbol[n-0]), size=text_size[n])\n",
        "              plt.text(z_carrier_alpha[n], (-1)*z_carrier_beta[n],str(n), color=hsvwheel(symbol[n-0]), size=text_size[n])         \n",
        "              plt.text((-1)*z_carrier_alpha[n], z_carrier_beta[n],str(n), color=hsvwheel(symbol[n-0]), size=text_size[n])\n",
        "              plt.text((-1)*z_carrier_alpha[n], (-1)*z_carrier_beta[n],str(n), color=hsvwheel(symbol[n-0]), size=text_size[n])      \n",
        "              plt.text(z_carrier_beta[n], z_carrier_alpha[n] ,str(n), color=hsvwheel(symbol[n-0]), size=text_size[n])\n",
        "              plt.text(z_carrier_beta[n], (-1)*z_carrier_alpha[n] ,str(n), color=hsvwheel(symbol[n-0]), size=text_size[n])\n",
        "              plt.text((-1)*z_carrier_beta[n], z_carrier_alpha[n] ,str(n), color=hsvwheel(symbol[n-0]), size=text_size[n])\n",
        "              plt.text((-1)*z_carrier_beta[n],(-1)*z_carrier_alpha[n] ,str(n), color=hsvwheel(symbol[n]), size=text_size[n])\n",
        "          \n",
        "        \n",
        "       \n",
        "        \n",
        "        # Save a png with current state\n",
        "        #plt.savefig(f'img{n}.png',dpi=dots_per_inch)\n",
        "\n",
        "plt.savefig(f'final.png')"
      ]
    },
    {
      "cell_type": "code",
      "source": [
        "# plt.scatter(z_carrier_alpha[n], z_carrier_beta[n] , marker=event_marker, color=hsvwheel(symbol[n-7]), s=symbol_size[n])\n",
        "#               plt.scatter(z_carrier_alpha[n], (-1)*z_carrier_beta[n] , marker=event_marker, color=hsvwheel(symbol[n-6]), s=symbol_size[n])\n",
        "#               plt.scatter((-1)*z_carrier_alpha[n], z_carrier_beta[n] , marker=event_marker, color=hsvwheel(symbol[n-5]), s=symbol_size[n])\n",
        "#               plt.scatter((-1)*z_carrier_alpha[n], (-1)*z_carrier_beta[n] , marker=event_marker, color=hsvwheel(symbol[n-4]), s=symbol_size[n])\n",
        "#               plt.scatter(z_carrier_beta[n], z_carrier_alpha[n] , marker=event_marker, color=hsvwheel(symbol[n-3]), s=symbol_size[n])\n",
        "#               plt.scatter(z_carrier_beta[n], (-1)*z_carrier_alpha[n] , marker=event_marker, color=hsvwheel(symbol[n-2]), s=symbol_size[n])\n",
        "#               plt.scatter((-1)*z_carrier_beta[n], z_carrier_alpha[n] , marker=event_marker, color=hsvwheel(symbol[n-1]), s=symbol_size[n])\n",
        "#               plt.scatter((-1)*z_carrier_beta[n], (-1)*z_carrier_alpha[n] , marker=event_marker, color=hsvwheel(symbol[n]), s=symbol_size[n])Q\n",
        "\n",
        "\n",
        "\n",
        "\n",
        "import matplotlib.pyplot as plt\n",
        "\n",
        "from mpl_toolkits.mplot3d import Axes3D\n",
        "from matplotlib import image\n",
        "\n",
        "import matplotlib.animation as animation\n"
      ],
      "metadata": {
        "id": "Tp3XbZ2OEogx"
      },
      "execution_count": 54,
      "outputs": []
    },
    {
      "cell_type": "code",
      "source": [
        "plt.rcParams.update({\n",
        "        \"lines.color\": \"black\",\n",
        "        \"patch.edgecolor\": \"black\",\n",
        "        \"text.color\": \"black\",\n",
        "        \"axes.facecolor\": \"black\",\n",
        "        \"axes.edgecolor\": \"black\",\n",
        "        \"axes.labelcolor\": \"black\",\n",
        "        \"xtick.color\": \"black\",\n",
        "        \"ytick.color\": \"black\",\n",
        "        \"grid.color\": \"black\",\n",
        "        \"figure.facecolor\": \"black\",\n",
        "        \"figure.edgecolor\": \"black\",\n",
        "        \"savefig.facecolor\": \"black\",\n",
        "        \"savefig.edgecolor\": \"black\"})\n",
        "\n",
        "\n",
        "fig = plt.figure(figsize=(20,20))\n",
        "hsvwheel = cm.get_cmap('hsv', To)\n",
        "ax = fig.add_subplot(111, projection='3d')\n",
        "#fig.set_size_inches(20, 20)\n",
        "ax.grid(False)\n",
        "ax.w_xaxis.pane.fill = False\n",
        "ax.w_yaxis.pane.fill = False\n",
        "ax.w_zaxis.pane.fill = False\n",
        "plt.style.use('dark_background')\n",
        "path_out='/content/drive/MyDrive/'\n",
        "text='ttttest'\n",
        "fps=2\n",
        "\n",
        "ims = []\n",
        "\n",
        "# Each index element has 8 internal steps able to model different dynamics\n",
        "# The size of the symbol can indicate the first/second/third different\n",
        "# The color is a discrete mapping in HSV \n",
        "z_carrier_orig=z_carrier\n",
        "k=-1\n",
        "#z_carrier=z_carrier**(-k)\n",
        " #prime symbol size\n",
        "b_size=10\n",
        "T_color=13\n",
        "T_mod=8\n",
        "hsvwheel = cm.get_cmap('hsv', T_color)\n",
        "\n",
        "nmod = events_index%T_mod\n",
        "symbol=nmod\n",
        "for n in np.arange(z_carrier[0:b_size].size):\n",
        "  \n",
        "  if isPrime(n):\n",
        "    event_marker=\"*\"\n",
        "    size=13**2\n",
        "    ax.scatter(z_carrier_alpha[n],z_carrier_beta[n],np.log(np.abs(z_carrier[n])),color=hsvwheel(symbol[n-7]),s=size,marker=event_marker)\n",
        "    plt.savefig('/content/drive/MyDrive/outs_eigenwheels/p_A_%d.png' % n)\n",
        "    ax.scatter((+1)*z_carrier_alpha[n],(-1)*z_carrier_beta[n],np.log(np.abs(z_carrier[n])),color=hsvwheel(symbol[n-6]),s=size,marker=event_marker)\n",
        "    plt.savefig('/content/drive/MyDrive/outs_eigenwheels/p_B_%d.png' % n)\n",
        "    ax.scatter((-1)*z_carrier_alpha[n],(+1)*z_carrier_beta[n],np.log(np.abs(z_carrier[n])),color=hsvwheel(symbol[n-5]),s=size,marker=event_marker)\n",
        "    plt.savefig('/content/drive/MyDrive/outs_eigenwheels/p_C_%d.png' % n)\n",
        "    ax.scatter((-1)*z_carrier_alpha[n],(-1)*z_carrier_beta[n],np.log(np.abs(z_carrier[n])),color=hsvwheel(symbol[n-4]),s=size,marker=event_marker)\n",
        "    plt.savefig('/content/drive/MyDrive/outs_eigenwheels/p_D_%d.png' % n)\n",
        "    ax.scatter(z_carrier_beta[n],z_carrier_alpha[n],np.log(np.abs(z_carrier[n])),color=hsvwheel(symbol[n-3]),s=size,marker=event_marker)\n",
        "    plt.savefig('/content/drive/MyDrive/outs_eigenwheels/p_E_%d.png' % n)\n",
        "    ax.scatter((+1)*z_carrier_beta[n],(-1)*z_carrier_alpha[n],np.log(np.abs(z_carrier[n])),color=hsvwheel(symbol[n-2]),s=size,marker=event_marker)\n",
        "    plt.savefig('/content/drive/MyDrive/outs_eigenwheels/p_F_%d.png' % n)\n",
        "    ax.scatter((-1)*z_carrier_beta[n],(+1)*z_carrier_alpha[n],np.log(np.abs(z_carrier[n])),color=hsvwheel(symbol[n-1]),s=size,marker=event_marker)\n",
        "    plt.savefig('/content/drive/MyDrive/outs_eigenwheels/p_G_%d.png' % n)\n",
        "    ax.scatter((-1)*z_carrier_beta[n],(-1)*z_carrier_alpha[n],np.log(np.abs(z_carrier[n])),color=hsvwheel(symbol[n-0]),s=size,marker=event_marker)\n",
        "    plt.savefig('/content/drive/MyDrive/outs_eigenwheels/p_H_%d.png' % n)\n",
        "  else:\n",
        "    event_marker=\"o\"\n",
        "    size=13*2\n",
        "    ax.scatter(z_carrier_alpha[n],z_carrier_beta[n],np.log(np.abs(z_carrier[n])),color=hsvwheel(symbol[n-7]),s=size,marker=event_marker)\n",
        "    plt.savefig('/content/drive/MyDrive/outs_eigenwheels/p_A_%d.png' % n)\n",
        "    ax.scatter((+1)*z_carrier_alpha[n],(-1)*z_carrier_beta[n],np.log(np.abs(z_carrier[n])),color=hsvwheel(symbol[n-6]),s=size,marker=event_marker)\n",
        "    plt.savefig('/content/drive/MyDrive/outs_eigenwheels/p_B_%d.png' % n)\n",
        "    ax.scatter((-1)*z_carrier_alpha[n],(+1)*z_carrier_beta[n],np.log(np.abs(z_carrier[n])),color=hsvwheel(symbol[n-5]),s=size,marker=event_marker)\n",
        "    plt.savefig('/content/drive/MyDrive/outs_eigenwheels/p_C_%d.png' % n)\n",
        "    ax.scatter((-1)*z_carrier_alpha[n],(-1)*z_carrier_beta[n],np.log(np.abs(z_carrier[n])),color=hsvwheel(symbol[n-4]),s=size,marker=event_marker)\n",
        "    plt.savefig('/content/drive/MyDrive/outs_eigenwheels/p_D_%d.png' % n)\n",
        "    ax.scatter(z_carrier_beta[n],z_carrier_alpha[n],np.log(np.abs(z_carrier[n])),color=hsvwheel(symbol[n-3]),s=size,marker=event_marker)\n",
        "    plt.savefig('/content/drive/MyDrive/outs_eigenwheels/p_E_%d.png' % n)\n",
        "    ax.scatter((+1)*z_carrier_beta[n],(-1)*z_carrier_alpha[n],np.log(np.abs(z_carrier[n])),color=hsvwheel(symbol[n-2]),s=size,marker=event_marker)\n",
        "    plt.savefig('/content/drive/MyDrive/outs_eigenwheels/p_F_%d.png' % n)\n",
        "    ax.scatter((-1)*z_carrier_beta[n],(+1)*z_carrier_alpha[n],np.log(np.abs(z_carrier[n])),color=hsvwheel(symbol[n-1]),s=size,marker=event_marker)\n",
        "    plt.savefig('/content/drive/MyDrive/outs_eigenwheels/p_G_%d.png' % n)\n",
        "    ax.scatter((-1)*z_carrier_beta[n],(-1)*z_carrier_alpha[n],np.log(np.abs(z_carrier[n])),color=hsvwheel(symbol[n-0]),s=size,marker=event_marker)\n",
        "    plt.savefig('/content/drive/MyDrive/outs_eigenwheels/p_H_%d.png' % n)\n",
        "\n",
        "   \n",
        "  #append current plot to ims\n",
        "  #fig.canvas.draw()\n",
        "  #im = np.frombuffer(fig.canvas.tostring_rgb(), dtype='uint8')\n",
        "  #ims.append([im.reshape(-1,1)])\n",
        "  plt.savefig('/content/drive/MyDrive/outs_eigenwheels/time_slice_%d.png' % n)\n",
        "\n",
        "#ani = animation.ArtistAnimation(fig, ims)\n",
        "#Writer = animation.writers['ffmpeg']\n",
        "#writer = Writer(fps=fps)\n",
        "#ani.save(f'{path_out}{text}.mp4', writer=writer)\n",
        "#ani.save(f'{path_out}{text}.mp4', writer=writer)\n",
        "plt.show()\n",
        "\n",
        "\n",
        "\n",
        "  \n",
        "  #plt.savefig(f'/content/drive/MyDrive/eigen_hole_{n}.png',dpi=dots_per_inch)\n",
        "  \n",
        "\n"
      ],
      "metadata": {
        "colab": {
          "base_uri": "https://localhost:8080/",
          "height": 1000
        },
        "id": "znFOPj7IFCVE",
        "outputId": "9a330e05-55d0-4666-c08b-8474a7896c9f"
      },
      "execution_count": 57,
      "outputs": [
        {
          "output_type": "display_data",
          "data": {
            "text/plain": [
              "<Figure size 1440x1440 with 1 Axes>"
            ],
            "image/png": "[encoded data removed]"
          },
          "metadata": {}
        }
      ]
    },
    {
      "cell_type": "code",
      "source": [
        ""
      ],
      "metadata": {
        "id": "71JZB7t4Q9by"
      },
      "execution_count": 55,
      "outputs": []
    },
    {
      "cell_type": "code",
      "source": [
        "from google.colab import drive\n",
        "drive.mount('/content/drive')"
      ],
      "metadata": {
        "id": "0P3sECNDRjav",
        "colab": {
          "base_uri": "https://localhost:8080/"
        },
        "outputId": "8e6f9a31-78ae-4fd5-f318-02ae0cfad842"
      },
      "execution_count": 56,
      "outputs": [
        {
          "output_type": "stream",
          "name": "stdout",
          "text": [
            "Drive already mounted at /content/drive; to attempt to forcibly remount, call drive.mount(\"/content/drive\", force_remount=True).\n"
          ]
        }
      ]
    }
  ],
  "metadata": {
    "colab": {
      "name": "Eigenwheels.ipynb",
      "provenance": [],
      "collapsed_sections": []
    },
    "kernelspec": {
      "display_name": "Python 3.7.6 ('base')",
      "language": "python",
      "name": "python3"
    },
    "language_info": {
      "codemirror_mode": {
        "name": "ipython",
        "version": 3
      },
      "file_extension": ".py",
      "mimetype": "text/x-python",
      "name": "python",
      "nbconvert_exporter": "python",
      "pygments_lexer": "ipython3",
      "version": "3.7.6"
    },
    "orig_nbformat": 4,
    "vscode": {
      "interpreter": {
        "hash": "a30a70a757fa2ada1bbdd73f5d55c631e630114f16d348ef73e2e5d5087d7e00"
      }
    }
  },
  "nbformat": 4,
  "nbformat_minor": 0
}